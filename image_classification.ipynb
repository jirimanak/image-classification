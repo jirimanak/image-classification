{
 "cells": [
  {
   "cell_type": "markdown",
   "metadata": {
    "collapsed": true
   },
   "source": [
    "# Image Classification\n",
    "In this project, you'll classify images from the [CIFAR-10 dataset](https://www.cs.toronto.edu/~kriz/cifar.html).  The dataset consists of airplanes, dogs, cats, and other objects. You'll preprocess the images, then train a convolutional neural network on all the samples. The images need to be normalized and the labels need to be one-hot encoded.  You'll get to apply what you learned and build a convolutional, max pooling, dropout, and fully connected layers.  At the end, you'll get to see your neural network's predictions on the sample images.\n",
    "## Get the Data\n",
    "Run the following cell to download the [CIFAR-10 dataset for python](https://www.cs.toronto.edu/~kriz/cifar-10-python.tar.gz)."
   ]
  },
  {
   "cell_type": "code",
   "execution_count": 2,
   "metadata": {},
   "outputs": [
    {
     "name": "stdout",
     "output_type": "stream",
     "text": [
      "All files found!\n"
     ]
    }
   ],
   "source": [
    "\n",
    "DON'T MODIFY ANYTHING IN THIS CELL THAT IS BELOW THIS LINE\n",
    "\n",
    "from urllib.request import urlretrieve\n",
    "from os.path import isfile, isdir\n",
    "from tqdm import tqdm\n",
    "import problem_unittests as tests\n",
    "import tarfile\n",
    "\n",
    "cifar10_dataset_folder_path = 'cifar-10-batches-py'\n",
    "\n",
    "class DLProgress(tqdm):\n",
    "    last_block = 0\n",
    "\n",
    "    def hook(self, block_num=1, block_size=1, total_size=None):\n",
    "        self.total = total_size\n",
    "        self.update((block_num - self.last_block) * block_size)\n",
    "        self.last_block = block_num\n",
    "\n",
    "if not isfile('cifar-10-python.tar.gz'):\n",
    "    with DLProgress(unit='B', unit_scale=True, miniters=1, desc='CIFAR-10 Dataset') as pbar:\n",
    "        urlretrieve(\n",
    "            'https://www.cs.toronto.edu/~kriz/cifar-10-python.tar.gz',\n",
    "            'cifar-10-python.tar.gz',\n",
    "            pbar.hook)\n",
    "\n",
    "if not isdir(cifar10_dataset_folder_path):\n",
    "    with tarfile.open('cifar-10-python.tar.gz') as tar:\n",
    "        tar.extractall()\n",
    "        tar.close()\n",
    "\n",
    "\n",
    "tests.test_folder_path(cifar10_dataset_folder_path)\n"
   ]
  },
  {
   "cell_type": "markdown",
   "metadata": {},
   "source": [
    "## Explore the Data\n",
    "The dataset is broken into batches to prevent your machine from running out of memory.  The CIFAR-10 dataset consists of 5 batches, named `data_batch_1`, `data_batch_2`, etc.. Each batch contains the labels and images that are one of the following:\n",
    "* airplane\n",
    "* automobile\n",
    "* bird\n",
    "* cat\n",
    "* deer\n",
    "* dog\n",
    "* frog\n",
    "* horse\n",
    "* ship\n",
    "* truck\n",
    "\n",
    "Understanding a dataset is part of making predictions on the data.  Play around with the code cell below by changing the `batch_id` and `sample_id`. The `batch_id` is the id for a batch (1-5). The `sample_id` is the id for a image and label pair in the batch.\n",
    "\n",
    "Ask yourself \"What are all possible labels?\", \"What is the range of values for the image data?\", \"Are the labels in order or random?\".  Answers to questions like these will help you preprocess the data and end up with better predictions."
   ]
  },
  {
   "cell_type": "code",
   "execution_count": 3,
   "metadata": {
    "scrolled": false
   },
   "outputs": [
    {
     "name": "stdout",
     "output_type": "stream",
     "text": [
      "\n",
      "Stats of batch 2:\n",
      "Samples: 10000\n",
      "Label Counts: {0: 984, 1: 1007, 2: 1010, 3: 995, 4: 1010, 5: 988, 6: 1008, 7: 1026, 8: 987, 9: 985}\n",
      "First 20 Labels: [1, 6, 6, 8, 8, 3, 4, 6, 0, 6, 0, 3, 6, 6, 5, 4, 8, 3, 2, 6]\n",
      "\n",
      "Example of Image 8:\n",
      "Image - Min Value: 31 Max Value: 255\n",
      "Image - Shape: (32, 32, 3)\n",
      "Label - Label Id: 0 Name: airplane\n"
     ]
    },
    {
     "data": {
      "image/png": "[encoded data removed]",
      "text/plain": [
       "<matplotlib.figure.Figure at 0x7f7d3ba557b8>"
      ]
     },
     "metadata": {
      "image/png": {
       "height": 250,
       "width": 253
      }
     },
     "output_type": "display_data"
    }
   ],
   "source": [
    "%matplotlib inline\n",
    "%config InlineBackend.figure_format = 'retina'\n",
    "\n",
    "import helper\n",
    "import numpy as np\n",
    "\n",
    "# Explore the dataset\n",
    "batch_id = 2\n",
    "sample_id = 8\n",
    "helper.display_stats(cifar10_dataset_folder_path, batch_id, sample_id)"
   ]
  },
  {
   "cell_type": "markdown",
   "metadata": {},
   "source": [
    "## Implement Preprocess Functions\n",
    "### Normalize\n",
    "In the cell below, implement the `normalize` function to take in image data, `x`, and return it as a normalized Numpy array. The values should be in the range of 0 to 1, inclusive.  The return object should be the same shape as `x`."
   ]
  },
  {
   "cell_type": "code",
   "execution_count": 4,
   "metadata": {},
   "outputs": [
    {
     "name": "stdout",
     "output_type": "stream",
     "text": [
      "Tests Passed\n"
     ]
    }
   ],
   "source": [
    "def normalize(x):\n",
    "    \"\"\"\n",
    "    Normalize a list of sample image data in the range of 0 to 1\n",
    "    : x: List of image data.  The image shape is (32, 32, 3)\n",
    "    : return: Numpy array of normalize data\n",
    "    \"\"\"\n",
    "    # TODO: Implement Function\n",
    "    return np.array(list(map((lambda c: (c/255)), x)))\n",
    "\n",
    "\n",
    "\"\"\"\n",
    "DON'T MODIFY ANYTHING IN THIS CELL THAT IS BELOW THIS LINE\n",
    "\"\"\"\n",
    "tests.test_normalize(normalize)"
   ]
  },
  {
   "cell_type": "markdown",
   "metadata": {},
   "source": [
    "### One-hot encode\n",
    "Just like the previous code cell, you'll be implementing a function for preprocessing.  This time, you'll implement the `one_hot_encode` function. The input, `x`, are a list of labels.  Implement the function to return the list of labels as One-Hot encoded Numpy array.  The possible values for labels are 0 to 9. The one-hot encoding function should return the same encoding for each value between each call to `one_hot_encode`.  Make sure to save the map of encodings outside the function.\n",
    "\n",
    "**Hint:**\n",
    "\n",
    "Look into LabelBinarizer in the preprocessing module of sklearn."
   ]
  },
  {
   "cell_type": "code",
   "execution_count": 33,
   "metadata": {},
   "outputs": [
    {
     "name": "stdout",
     "output_type": "stream",
     "text": [
      "Tests Passed\n"
     ]
    }
   ],
   "source": [
    "from sklearn import preprocessing\n",
    "\n",
    "\n",
    "def one_hot_encode(x):\n",
    "    \"\"\"\n",
    "    One hot encode a list of sample labels. Return a one-hot encoded vector for each label.\n",
    "    : x: List of sample Labels\n",
    "    : return: Numpy array of one-hot encoded labels\n",
    "    \"\"\"\n",
    "    # TODO: Implement Function\n",
    "    \n",
    "    # Create the encoder\n",
    "    hot_encoder = preprocessing.LabelBinarizer(neg_label=0, pos_label=1, sparse_output=False)\n",
    "    hot_encoder.fit([0,1,2,3,4,5,6,7,8,9])\n",
    "    return  hot_encoder.transform(x)\n",
    "\n",
    "\n",
    "\"\"\"\n",
    "DON'T MODIFY ANYTHING IN THIS CELL THAT IS BELOW THIS LINE\n",
    "\"\"\"\n",
    "tests.test_one_hot_encode(one_hot_encode)"
   ]
  },
  {
   "cell_type": "markdown",
   "metadata": {},
   "source": [
    "### Randomize Data\n",
    "As you saw from exploring the data above, the order of the samples are randomized.  It doesn't hurt to randomize it again, but you don't need to for this dataset."
   ]
  },
  {
   "cell_type": "markdown",
   "metadata": {},
   "source": [
    "## Preprocess all the data and save it\n",
    "Running the code cell below will preprocess all the CIFAR-10 data and save it to file. The code below also uses 10% of the training data for validation."
   ]
  },
  {
   "cell_type": "code",
   "execution_count": 6,
   "metadata": {
    "collapsed": true
   },
   "outputs": [],
   "source": [
    "\"\"\"\n",
    "DON'T MODIFY ANYTHING IN THIS CELL\n",
    "\"\"\"\n",
    "# Preprocess Training, Validation, and Testing Data\n",
    "helper.preprocess_and_save_data(cifar10_dataset_folder_path, normalize, one_hot_encode)"
   ]
  },
  {
   "cell_type": "markdown",
   "metadata": {},
   "source": [
    "# Check Point\n",
    "This is your first checkpoint.  If you ever decide to come back to this notebook or have to restart the notebook, you can start from here.  The preprocessed data has been saved to disk."
   ]
  },
  {
   "cell_type": "code",
   "execution_count": 7,
   "metadata": {
    "collapsed": true
   },
   "outputs": [],
   "source": [
    "\"\"\"\n",
    "DON'T MODIFY ANYTHING IN THIS CELL\n",
    "\"\"\"\n",
    "import pickle\n",
    "import problem_unittests as tests\n",
    "import helper\n",
    "\n",
    "# Load the Preprocessed Validation data\n",
    "valid_features, valid_labels = pickle.load(open('preprocess_validation.p', mode='rb'))"
   ]
  },
  {
   "cell_type": "markdown",
   "metadata": {},
   "source": [
    "## Build the network\n",
    "For the neural network, you'll build each layer into a function.  Most of the code you've seen has been outside of functions. To test your code more thoroughly, we require that you put each layer in a function.  This allows us to give you better feedback and test for simple mistakes using our unittests before you submit your project.\n",
    "\n",
    ">**Note:** If you're finding it hard to dedicate enough time for this course each week, we've provided a small shortcut to this part of the project. In the next couple of problems, you'll have the option to use classes from the [TensorFlow Layers](https://www.tensorflow.org/api_docs/python/tf/layers) or [TensorFlow Layers (contrib)](https://www.tensorflow.org/api_guides/python/contrib.layers) packages to build each layer, except the layers you build in the \"Convolutional and Max Pooling Layer\" section.  TF Layers is similar to Keras's and TFLearn's abstraction to layers, so it's easy to pickup.\n",
    "\n",
    ">However, if you would like to get the most out of this course, try to solve all the problems _without_ using anything from the TF Layers packages. You **can** still use classes from other packages that happen to have the same name as ones you find in TF Layers! For example, instead of using the TF Layers version of the `conv2d` class, [tf.layers.conv2d](https://www.tensorflow.org/api_docs/python/tf/layers/conv2d), you would want to use the TF Neural Network version of `conv2d`, [tf.nn.conv2d](https://www.tensorflow.org/api_docs/python/tf/nn/conv2d). \n",
    "\n",
    "Let's begin!\n",
    "\n",
    "### Input\n",
    "The neural network needs to read the image data, one-hot encoded labels, and dropout keep probability. Implement the following functions\n",
    "* Implement `neural_net_image_input`\n",
    " * Return a [TF Placeholder](https://www.tensorflow.org/api_docs/python/tf/placeholder)\n",
    " * Set the shape using `image_shape` with batch size set to `None`.\n",
    " * Name the TensorFlow placeholder \"x\" using the TensorFlow `name` parameter in the [TF Placeholder](https://www.tensorflow.org/api_docs/python/tf/placeholder).\n",
    "* Implement `neural_net_label_input`\n",
    " * Return a [TF Placeholder](https://www.tensorflow.org/api_docs/python/tf/placeholder)\n",
    " * Set the shape using `n_classes` with batch size set to `None`.\n",
    " * Name the TensorFlow placeholder \"y\" using the TensorFlow `name` parameter in the [TF Placeholder](https://www.tensorflow.org/api_docs/python/tf/placeholder).\n",
    "* Implement `neural_net_keep_prob_input`\n",
    " * Return a [TF Placeholder](https://www.tensorflow.org/api_docs/python/tf/placeholder) for dropout keep probability.\n",
    " * Name the TensorFlow placeholder \"keep_prob\" using the TensorFlow `name` parameter in the [TF Placeholder](https://www.tensorflow.org/api_docs/python/tf/placeholder).\n",
    "\n",
    "These names will be used at the end of the project to load your saved model.\n",
    "\n",
    "Note: `None` for shapes in TensorFlow allow for a dynamic size."
   ]
  },
  {
   "cell_type": "code",
   "execution_count": 8,
   "metadata": {},
   "outputs": [
    {
     "name": "stdout",
     "output_type": "stream",
     "text": [
      "Image Input Tests Passed.\n",
      "Label Input Tests Passed.\n",
      "Keep Prob Tests Passed.\n"
     ]
    }
   ],
   "source": [
    "-"
   ]
  },
  {
   "cell_type": "markdown",
   "metadata": {},
   "source": [
    "### Convolution and Max Pooling Layer\n",
    "Convolution layers have a lot of success with images. For this code cell, you should implement the function `conv2d_maxpool` to apply convolution then max pooling:\n",
    "* Create the weight and bias using `conv_ksize`, `conv_num_outputs` and the shape of `x_tensor`.\n",
    "* Apply a convolution to `x_tensor` using weight and `conv_strides`.\n",
    " * We recommend you use same padding, but you're welcome to use any padding.\n",
    "* Add bias\n",
    "* Add a nonlinear activation to the convolution.\n",
    "* Apply Max Pooling using `pool_ksize` and `pool_strides`.\n",
    " * We recommend you use same padding, but you're welcome to use any padding.\n",
    "\n",
    "**Note:** You **can't** use [TensorFlow Layers](https://www.tensorflow.org/api_docs/python/tf/layers) or [TensorFlow Layers (contrib)](https://www.tensorflow.org/api_guides/python/contrib.layers) for **this** layer, but you can still use TensorFlow's [Neural Network](https://www.tensorflow.org/api_docs/python/tf/nn) package. You may still use the shortcut option for all the **other** layers.\n",
    "\n",
    "** Hint: **\n",
    "\n",
    "When unpacking values as an argument in Python, look into the [unpacking](https://docs.python.org/3/tutorial/controlflow.html#unpacking-argument-lists) operator. "
   ]
  },
  {
   "cell_type": "code",
   "execution_count": 9,
   "metadata": {},
   "outputs": [
    {
     "name": "stdout",
     "output_type": "stream",
     "text": [
      "Tests Passed\n"
     ]
    }
   ],
   "source": [
    "def conv2d_maxpool(x_tensor, conv_num_outputs, conv_ksize, conv_strides, pool_ksize, pool_strides):\n",
    "    \"\"\"\n",
    "    Apply convolution then max pooling to x_tensor\n",
    "    :param x_tensor: TensorFlow Tensor\n",
    "    :param conv_num_outputs: Number of outputs for the convolutional layer\n",
    "    :param conv_ksize: kernal size 2-D Tuple for the convolutional layer\n",
    "    :param conv_strides: Stride 2-D Tuple for convolution\n",
    "    :param pool_ksize: kernal size 2-D Tuple for pool\n",
    "    :param pool_strides: Stride 2-D Tuple for pool\n",
    "    : return: A tensor that represents convolution and max pooling of x_tensor\n",
    "    \"\"\"\n",
    "    # TODO: Implement Function\n",
    "    \n",
    "    input_depth = x_tensor.get_shape().as_list()[3]\n",
    "    \n",
    "    # Weight and bias\n",
    "    \n",
    "    #shape = [conv_ksize[0], conv_ksize[1], input_depth, conv_num_outputs]\n",
    "    shape = [*conv_ksize, input_depth, conv_num_outputs]\n",
    "\n",
    "    # truncated_normal( shape, mean=0.0, stddev=1.0, dtype=tf.float32, seed=None, name=None )\n",
    "    weight = tf.Variable(tf.truncated_normal(shape, mean = 0.0, stddev = 0.1))\n",
    "    \n",
    "    \n",
    "    bias = tf.Variable(tf.zeros(conv_num_outputs))\n",
    "    \n",
    "    # adding\n",
    "    strides = [1, *conv_strides, 1]\n",
    "    conv_layer = tf.nn.conv2d( x_tensor, weight, strides = strides, padding='SAME')\n",
    "    \n",
    "    # adding bias \n",
    "    conv_layer = tf.nn.bias_add(conv_layer, bias)\n",
    "    \n",
    "    # adding nonlinear activaton\n",
    "    conv_layer = tf.nn.relu(conv_layer)\n",
    "    \n",
    "    # applying max pooling\n",
    "    ksize = [1, *pool_ksize, 1 ]\n",
    "    strides = [1, *pool_strides, 1]\n",
    "    conv_layer = tf.nn.max_pool( conv_layer, ksize = ksize, strides = strides, padding = 'SAME')\n",
    "    \n",
    "    return conv_layer \n",
    "\n",
    "\n",
    "\"\"\"\n",
    "DON'T MODIFY ANYTHING IN THIS CELL THAT IS BELOW THIS LINE\n",
    "\"\"\"\n",
    "tests.test_con_pool(conv2d_maxpool)"
   ]
  },
  {
   "cell_type": "markdown",
   "metadata": {},
   "source": [
    "### Flatten Layer\n",
    "Implement the `flatten` function to change the dimension of `x_tensor` from a 4-D tensor to a 2-D tensor.  The output should be the shape (*Batch Size*, *Flattened Image Size*). Shortcut option: you can use classes from the [TensorFlow Layers](https://www.tensorflow.org/api_docs/python/tf/layers) or [TensorFlow Layers (contrib)](https://www.tensorflow.org/api_guides/python/contrib.layers) packages for this layer. For more of a challenge, only use other TensorFlow packages."
   ]
  },
  {
   "cell_type": "code",
   "execution_count": 13,
   "metadata": {},
   "outputs": [
    {
     "name": "stdout",
     "output_type": "stream",
     "text": [
      "Tests Passed\n"
     ]
    }
   ],
   "source": [
    "def flatten(x_tensor):\n",
    "    \"\"\"\n",
    "    Flatten x_tensor to (Batch Size, Flattened Image Size)\n",
    "    : x_tensor: A tensor of size (Batch Size, ...), where ... are the image dimensions.\n",
    "    : return: A tensor of size (Batch Size, Flattened Image Size).\n",
    "    \"\"\"\n",
    "    # TODO: Implement Function\n",
    "    \n",
    "    use_layers = False\n",
    "    if use_layers:\n",
    "        # using TensofFlow Layers Contrib\n",
    "        flt = tf.contrib.layers.flatten(x_tensor)\n",
    "    else:\n",
    "    \n",
    "        batch_size, *img_size = x_tensor.get_shape().as_list()\n",
    "        img_size = img_size[0] * img_size[1] * img_size[2]\n",
    "        \n",
    "        flt = tf.reshape(x_tensor, [-1, img_size])\n",
    "    \n",
    "    return flt\n",
    "\n",
    "\n",
    "\"\"\"\n",
    "DON'T MODIFY ANYTHING IN THIS CELL THAT IS BELOW THIS LINE\n",
    "\"\"\"\n",
    "tests.test_flatten(flatten)"
   ]
  },
  {
   "cell_type": "markdown",
   "metadata": {},
   "source": [
    "### Fully-Connected Layer\n",
    "Implement the `fully_conn` function to apply a fully connected layer to `x_tensor` with the shape (*Batch Size*, *num_outputs*). Shortcut option: you can use classes from the [TensorFlow Layers](https://www.tensorflow.org/api_docs/python/tf/layers) or [TensorFlow Layers (contrib)](https://www.tensorflow.org/api_guides/python/contrib.layers) packages for this layer. For more of a challenge, only use other TensorFlow packages."
   ]
  },
  {
   "cell_type": "code",
   "execution_count": 15,
   "metadata": {},
   "outputs": [
    {
     "name": "stdout",
     "output_type": "stream",
     "text": [
      "Tests Passed\n"
     ]
    }
   ],
   "source": [
    "def fully_conn(x_tensor, num_outputs):\n",
    "    \"\"\"\n",
    "    Apply a fully connected layer to x_tensor using weight and bias\n",
    "    : x_tensor: A 2-D tensor where the first dimension is batch size.\n",
    "    : num_outputs: The number of output that the new tensor should be.\n",
    "    : return: A 2-D tensor where the second dimension is num_outputs.\n",
    "    \"\"\"\n",
    "    # TODO: Implement Function\n",
    "    use_layers = True\n",
    "    if use_layers:\n",
    "        # using TensofFlow Layers Contrib\n",
    "        fconn = tf.contrib.layers.fully_connected(x_tensor, num_outputs)\n",
    "    else:\n",
    "        shape = x_tensor.get_shape().as_list()\n",
    "        weight = tf.Variable(tf.random_normal([shape[-1], num_outputs], stddev=0.1))\n",
    "        b = tf.Variable(tf.zeros(num_outputs)) + 0.11\n",
    "        fconn = tf.nn.relu(tf.add(tf.matmul(x_tensor, weight), b))\n",
    "    return fconn\n",
    "\n",
    "\"\"\"\n",
    "DON'T MODIFY ANYTHING IN THIS CELL THAT IS BELOW THIS LINE\n",
    "\"\"\"\n",
    "tests.test_fully_conn(fully_conn)"
   ]
  },
  {
   "cell_type": "markdown",
   "metadata": {},
   "source": [
    "### Output Layer\n",
    "Implement the `output` function to apply a fully connected layer to `x_tensor` with the shape (*Batch Size*, *num_outputs*). Shortcut option: you can use classes from the [TensorFlow Layers](https://www.tensorflow.org/api_docs/python/tf/layers) or [TensorFlow Layers (contrib)](https://www.tensorflow.org/api_guides/python/contrib.layers) packages for this layer. For more of a challenge, only use other TensorFlow packages.\n",
    "\n",
    "**Note:** Activation, softmax, or cross entropy should **not** be applied to this."
   ]
  },
  {
   "cell_type": "code",
   "execution_count": 16,
   "metadata": {},
   "outputs": [
    {
     "name": "stdout",
     "output_type": "stream",
     "text": [
      "Tests Passed\n"
     ]
    }
   ],
   "source": [
    "def output(x_tensor, num_outputs):\n",
    "    \"\"\"\n",
    "    Apply a output layer to x_tensor using weight and bias\n",
    "    : x_tensor: A 2-D tensor where the first dimension is batch size.\n",
    "    : num_outputs: The number of output that the new tensor should be.\n",
    "    : return: A 2-D tensor where the second dimension is num_outputs.\n",
    "    \"\"\"\n",
    "    # TODO: Implement Function\n",
    "    use_layers = True\n",
    "    if use_layers:\n",
    "        output_layer = tf.layers.dense(inputs=x_tensor, units=num_outputs, activation=None)\n",
    "    else:\n",
    "        w_shape = [int(x_tensor.get_shape().as_list()[1]), num_outputs]\n",
    "        weight = tf.Variable(tf.random_normal(w_shape, stddev=0.1))\n",
    "        b = tf.Variable(tf.zeros(num_outputs))\n",
    "        output_layer = tf.add(tf.matmul(x_tensor, weight), b)\n",
    "    return output_layer\n",
    "\n",
    "\n",
    "\"\"\"\n",
    "DON'T MODIFY ANYTHING IN THIS CELL THAT IS BELOW THIS LINE\n",
    "\"\"\"\n",
    "tests.test_output(output)"
   ]
  },
  {
   "cell_type": "markdown",
   "metadata": {},
   "source": [
    "### Create Convolutional Model\n",
    "Implement the function `conv_net` to create a convolutional neural network model. The function takes in a batch of images, `x`, and outputs logits.  Use the layers you created above to create this model:\n",
    "\n",
    "* Apply 1, 2, or 3 Convolution and Max Pool layers\n",
    "* Apply a Flatten Layer\n",
    "* Apply 1, 2, or 3 Fully Connected Layers\n",
    "* Apply an Output Layer\n",
    "* Return the output\n",
    "* Apply [TensorFlow's Dropout](https://www.tensorflow.org/api_docs/python/tf/nn/dropout) to one or more layers in the model using `keep_prob`. "
   ]
  },
  {
   "cell_type": "code",
   "execution_count": 17,
   "metadata": {},
   "outputs": [
    {
     "name": "stdout",
     "output_type": "stream",
     "text": [
      "Neural Network Built!\n"
     ]
    }
   ],
   "source": [
    "def conv_net(x, keep_prob):\n",
    "    \"\"\"\n",
    "    Create a convolutional neural network model\n",
    "    : x: Placeholder tensor that holds image data.\n",
    "    : keep_prob: Placeholder tensor that hold dropout keep probability.\n",
    "    : return: Tensor that represents logits\n",
    "    \"\"\"\n",
    "    # TODO: Apply 1, 2, or 3 Convolution and Max Pool layers\n",
    "    #    Play around with different number of outputs, kernel size and stride\n",
    "    # Function Definition from Above:\n",
    "    #    conv2d_maxpool(x_tensor, conv_num_outputs, conv_ksize, conv_strides, pool_ksize, pool_strides)\n",
    "    \n",
    "    x = conv2d_maxpool(x, 32, (3, 3), (1, 1), (2, 2), (2, 2))\n",
    "    x = conv2d_maxpool(x, 32, (3, 3), (2, 2), (2, 2), (2, 2))\n",
    "    x = conv2d_maxpool(x, 64, (3, 3), (1, 1), (2, 2), (2, 2))\n",
    "\n",
    "    # TODO: Apply a Flatten Layer\n",
    "    # Function Definition from Above:\n",
    "    #   flatten(x_tensor)\n",
    "    x = flatten(x)\n",
    "\n",
    "    # TODO: Apply 1, 2, or 3 Fully Connected Layers\n",
    "    #    Play around with different number of outputs\n",
    "    # Function Definition from Above:\n",
    "    #   fully_conn(x_tensor, num_outputs)\n",
    "    x = fully_conn(x, 512)\n",
    "    x = tf.nn.dropout(x, keep_prob)\n",
    "    x = fully_conn(x, 192)\n",
    "    x = tf.nn.dropout(x, keep_prob)\n",
    "\n",
    "    \n",
    "    # TODO: Apply an Output Layer\n",
    "    #    Set this to the number of classes\n",
    "    # Function Definition from Above:\n",
    "    #   output(x_tensor, num_outputs)\n",
    "    out = output(x, 10)\n",
    "    \n",
    "    # TODO: return output\n",
    "    return out\n",
    "\n",
    "\n",
    "\"\"\"\n",
    "DON'T MODIFY ANYTHING IN THIS CELL THAT IS BELOW THIS LINE\n",
    "\"\"\"\n",
    "\n",
    "##############################\n",
    "## Build the Neural Network ##\n",
    "##############################\n",
    "\n",
    "# Remove previous weights, bias, inputs, etc..\n",
    "tf.reset_default_graph()\n",
    "\n",
    "# Inputs\n",
    "x = neural_net_image_input((32, 32, 3))\n",
    "y = neural_net_label_input(10)\n",
    "keep_prob = neural_net_keep_prob_input()\n",
    "\n",
    "# Model\n",
    "logits = conv_net(x, keep_prob)\n",
    "\n",
    "# Name logits Tensor, so that is can be loaded from disk after training\n",
    "logits = tf.identity(logits, name='logits')\n",
    "\n",
    "# Loss and Optimizer\n",
    "cost = tf.reduce_mean(tf.nn.softmax_cross_entropy_with_logits(logits=logits, labels=y))\n",
    "optimizer = tf.train.AdamOptimizer().minimize(cost)\n",
    "\n",
    "# Accuracy\n",
    "correct_pred = tf.equal(tf.argmax(logits, 1), tf.argmax(y, 1))\n",
    "accuracy = tf.reduce_mean(tf.cast(correct_pred, tf.float32), name='accuracy')\n",
    "\n",
    "tests.test_conv_net(conv_net)"
   ]
  },
  {
   "cell_type": "markdown",
   "metadata": {},
   "source": [
    "## Train the Neural Network\n",
    "### Single Optimization\n",
    "Implement the function `train_neural_network` to do a single optimization.  The optimization should use `optimizer` to optimize in `session` with a `feed_dict` of the following:\n",
    "* `x` for image input\n",
    "* `y` for labels\n",
    "* `keep_prob` for keep probability for dropout\n",
    "\n",
    "This function will be called for each batch, so `tf.global_variables_initializer()` has already been called.\n",
    "\n",
    "Note: Nothing needs to be returned. This function is only optimizing the neural network."
   ]
  },
  {
   "cell_type": "code",
   "execution_count": 18,
   "metadata": {},
   "outputs": [
    {
     "name": "stdout",
     "output_type": "stream",
     "text": [
      "Tests Passed\n"
     ]
    }
   ],
   "source": [
    "def train_neural_network(session, optimizer, keep_probability, feature_batch, label_batch):\n",
    "    \"\"\"\n",
    "    Optimize the session on a batch of images and labels\n",
    "    : session: Current TensorFlow session\n",
    "    : optimizer: TensorFlow optimizer function\n",
    "    : keep_probability: keep probability\n",
    "    : feature_batch: Batch of Numpy image data\n",
    "    : label_batch: Batch of Numpy label data\n",
    "    \"\"\"\n",
    "    # TODO: Implement Function\n",
    "    session.run(optimizer, feed_dict={x: feature_batch, y: label_batch, keep_prob: keep_probability})\n",
    "\n",
    "\n",
    "\"\"\"\n",
    "DON'T MODIFY ANYTHING IN THIS CELL THAT IS BELOW THIS LINE\n",
    "\"\"\"\n",
    "tests.test_train_nn(train_neural_network)"
   ]
  },
  {
   "cell_type": "markdown",
   "metadata": {},
   "source": [
    "### Show Stats\n",
    "Implement the function `print_stats` to print loss and validation accuracy.  Use the global variables `valid_features` and `valid_labels` to calculate validation accuracy.  Use a keep probability of `1.0` to calculate the loss and validation accuracy."
   ]
  },
  {
   "cell_type": "code",
   "execution_count": 19,
   "metadata": {
    "collapsed": true
   },
   "outputs": [],
   "source": [
    "def print_stats(session, feature_batch, label_batch, cost, accuracy):\n",
    "    \"\"\"\n",
    "    Print information about loss and validation accuracy\n",
    "    : session: Current TensorFlow session\n",
    "    : feature_batch: Batch of Numpy image data\n",
    "    : label_batch: Batch of Numpy label data\n",
    "    : cost: TensorFlow cost function\n",
    "    : accuracy: TensorFlow accuracy function\n",
    "    \"\"\"\n",
    "    # TODO: Implement Function\n",
    "    loss = sess.run(cost, feed_dict={ x: feature_batch, y: label_batch, keep_prob: 1.})\n",
    "    valid_acc = sess.run(accuracy, feed_dict={ x: valid_features, y: valid_labels, keep_prob: 1.})\n",
    "    \n",
    "    print('| Loss: {:>10.4f} | Validation Accuracy: {:.6f}'.format(loss, valid_acc))"
   ]
  },
  {
   "cell_type": "markdown",
   "metadata": {},
   "source": [
    "### Hyperparameters\n",
    "Tune the following parameters:\n",
    "* Set `epochs` to the number of iterations until the network stops learning or start overfitting\n",
    "* Set `batch_size` to the highest number that your machine has memory for.  Most people set them to common sizes of memory:\n",
    " * 64\n",
    " * 128\n",
    " * 256\n",
    " * ...\n",
    "* Set `keep_probability` to the probability of keeping a node using dropout"
   ]
  },
  {
   "cell_type": "code",
   "execution_count": 24,
   "metadata": {
    "collapsed": true
   },
   "outputs": [],
   "source": [
    "# TODO: Tune Parameters\n",
    "epochs = 20\n",
    "batch_size = 64\n",
    "keep_probability = 0.75"
   ]
  },
  {
   "cell_type": "markdown",
   "metadata": {},
   "source": [
    "### Train on a Single CIFAR-10 Batch\n",
    "Instead of training the neural network on all the CIFAR-10 batches of data, let's use a single batch. This should save time while you iterate on the model to get a better accuracy.  Once the final validation accuracy is 50% or greater, run the model on all the data in the next section."
   ]
  },
  {
   "cell_type": "code",
   "execution_count": 25,
   "metadata": {},
   "outputs": [
    {
     "name": "stdout",
     "output_type": "stream",
     "text": [
      "Checking the Training on a Single Batch...\n",
      "Epoch  1, CIFAR-10 Batch 1:  | Loss:     2.0018 | Validation Accuracy: 0.310600\n",
      "Epoch  2, CIFAR-10 Batch 1:  | Loss:     1.8476 | Validation Accuracy: 0.405200\n",
      "Epoch  3, CIFAR-10 Batch 1:  | Loss:     1.6162 | Validation Accuracy: 0.439600\n",
      "Epoch  4, CIFAR-10 Batch 1:  | Loss:     1.5987 | Validation Accuracy: 0.429800\n",
      "Epoch  5, CIFAR-10 Batch 1:  | Loss:     1.4465 | Validation Accuracy: 0.458000\n",
      "Epoch  6, CIFAR-10 Batch 1:  | Loss:     1.3425 | Validation Accuracy: 0.460600\n",
      "Epoch  7, CIFAR-10 Batch 1:  | Loss:     1.2081 | Validation Accuracy: 0.487800\n",
      "Epoch  8, CIFAR-10 Batch 1:  | Loss:     1.0655 | Validation Accuracy: 0.511600\n",
      "Epoch  9, CIFAR-10 Batch 1:  | Loss:     1.0245 | Validation Accuracy: 0.532800\n",
      "Epoch 10, CIFAR-10 Batch 1:  | Loss:     0.9766 | Validation Accuracy: 0.552600\n",
      "Epoch 11, CIFAR-10 Batch 1:  | Loss:     0.8494 | Validation Accuracy: 0.548800\n",
      "Epoch 12, CIFAR-10 Batch 1:  | Loss:     0.8135 | Validation Accuracy: 0.546400\n",
      "Epoch 13, CIFAR-10 Batch 1:  | Loss:     0.7383 | Validation Accuracy: 0.541600\n",
      "Epoch 14, CIFAR-10 Batch 1:  | Loss:     0.5982 | Validation Accuracy: 0.548600\n",
      "Epoch 15, CIFAR-10 Batch 1:  | Loss:     0.5451 | Validation Accuracy: 0.555000\n",
      "Epoch 16, CIFAR-10 Batch 1:  | Loss:     0.4968 | Validation Accuracy: 0.548800\n",
      "Epoch 17, CIFAR-10 Batch 1:  | Loss:     0.4376 | Validation Accuracy: 0.559400\n",
      "Epoch 18, CIFAR-10 Batch 1:  | Loss:     0.4011 | Validation Accuracy: 0.546400\n",
      "Epoch 19, CIFAR-10 Batch 1:  | Loss:     0.3664 | Validation Accuracy: 0.544400\n",
      "Epoch 20, CIFAR-10 Batch 1:  | Loss:     0.3548 | Validation Accuracy: 0.549800\n"
     ]
    }
   ],
   "source": [
    "\"\"\"\n",
    "DON'T MODIFY ANYTHING IN THIS CELL\n",
    "\"\"\"\n",
    "print('Checking the Training on a Single Batch...')\n",
    "with tf.Session() as sess:\n",
    "    # Initializing the variables\n",
    "    sess.run(tf.global_variables_initializer())\n",
    "    \n",
    "    # Training cycle\n",
    "    for epoch in range(epochs):\n",
    "        batch_i = 1\n",
    "        for batch_features, batch_labels in helper.load_preprocess_training_batch(batch_i, batch_size):\n",
    "            train_neural_network(sess, optimizer, keep_probability, batch_features, batch_labels)\n",
    "        print('Epoch {:>2}, CIFAR-10 Batch {}:  '.format(epoch + 1, batch_i), end='')\n",
    "        print_stats(sess, batch_features, batch_labels, cost, accuracy)"
   ]
  },
  {
   "cell_type": "markdown",
   "metadata": {},
   "source": [
    "### Fully Train the Model\n",
    "Now that you got a good accuracy with a single CIFAR-10 batch, try it with all five batches."
   ]
  },
  {
   "cell_type": "code",
   "execution_count": 26,
   "metadata": {},
   "outputs": [
    {
     "name": "stdout",
     "output_type": "stream",
     "text": [
      "Training...\n",
      "Epoch  1, CIFAR-10 Batch 1:  | Loss:     1.9714 | Validation Accuracy: 0.332600\n",
      "Epoch  1, CIFAR-10 Batch 2:  | Loss:     1.6097 | Validation Accuracy: 0.406000\n",
      "Epoch  1, CIFAR-10 Batch 3:  | Loss:     1.2624 | Validation Accuracy: 0.465600\n",
      "Epoch  1, CIFAR-10 Batch 4:  | Loss:     1.4330 | Validation Accuracy: 0.492800\n",
      "Epoch  1, CIFAR-10 Batch 5:  | Loss:     1.4356 | Validation Accuracy: 0.514600\n",
      "Epoch  2, CIFAR-10 Batch 1:  | Loss:     1.5341 | Validation Accuracy: 0.510800\n",
      "Epoch  2, CIFAR-10 Batch 2:  | Loss:     1.2556 | Validation Accuracy: 0.516600\n",
      "Epoch  2, CIFAR-10 Batch 3:  | Loss:     1.0899 | Validation Accuracy: 0.551800\n",
      "Epoch  2, CIFAR-10 Batch 4:  | Loss:     1.0701 | Validation Accuracy: 0.555000\n",
      "Epoch  2, CIFAR-10 Batch 5:  | Loss:     1.2711 | Validation Accuracy: 0.568600\n",
      "Epoch  3, CIFAR-10 Batch 1:  | Loss:     1.2566 | Validation Accuracy: 0.578600\n",
      "Epoch  3, CIFAR-10 Batch 2:  | Loss:     1.1604 | Validation Accuracy: 0.564600\n",
      "Epoch  3, CIFAR-10 Batch 3:  | Loss:     0.9155 | Validation Accuracy: 0.592000\n",
      "Epoch  3, CIFAR-10 Batch 4:  | Loss:     0.9515 | Validation Accuracy: 0.591000\n",
      "Epoch  3, CIFAR-10 Batch 5:  | Loss:     1.1832 | Validation Accuracy: 0.601600\n",
      "Epoch  4, CIFAR-10 Batch 1:  | Loss:     1.0447 | Validation Accuracy: 0.604400\n",
      "Epoch  4, CIFAR-10 Batch 2:  | Loss:     1.1144 | Validation Accuracy: 0.592000\n",
      "Epoch  4, CIFAR-10 Batch 3:  | Loss:     0.8641 | Validation Accuracy: 0.611600\n",
      "Epoch  4, CIFAR-10 Batch 4:  | Loss:     0.8880 | Validation Accuracy: 0.616600\n",
      "Epoch  4, CIFAR-10 Batch 5:  | Loss:     0.9947 | Validation Accuracy: 0.613600\n",
      "Epoch  5, CIFAR-10 Batch 1:  | Loss:     0.9731 | Validation Accuracy: 0.621800\n",
      "Epoch  5, CIFAR-10 Batch 2:  | Loss:     0.9957 | Validation Accuracy: 0.610800\n",
      "Epoch  5, CIFAR-10 Batch 3:  | Loss:     0.8095 | Validation Accuracy: 0.613200\n",
      "Epoch  5, CIFAR-10 Batch 4:  | Loss:     0.8427 | Validation Accuracy: 0.633600\n",
      "Epoch  5, CIFAR-10 Batch 5:  | Loss:     0.8817 | Validation Accuracy: 0.639000\n",
      "Epoch  6, CIFAR-10 Batch 1:  | Loss:     0.8611 | Validation Accuracy: 0.635600\n",
      "Epoch  6, CIFAR-10 Batch 2:  | Loss:     0.9413 | Validation Accuracy: 0.632800\n",
      "Epoch  6, CIFAR-10 Batch 3:  | Loss:     0.7086 | Validation Accuracy: 0.635200\n",
      "Epoch  6, CIFAR-10 Batch 4:  | Loss:     0.7308 | Validation Accuracy: 0.654600\n",
      "Epoch  6, CIFAR-10 Batch 5:  | Loss:     0.7591 | Validation Accuracy: 0.643800\n",
      "Epoch  7, CIFAR-10 Batch 1:  | Loss:     0.7920 | Validation Accuracy: 0.647000\n",
      "Epoch  7, CIFAR-10 Batch 2:  | Loss:     0.8467 | Validation Accuracy: 0.643600\n",
      "Epoch  7, CIFAR-10 Batch 3:  | Loss:     0.6015 | Validation Accuracy: 0.651000\n",
      "Epoch  7, CIFAR-10 Batch 4:  | Loss:     0.6796 | Validation Accuracy: 0.663000\n",
      "Epoch  7, CIFAR-10 Batch 5:  | Loss:     0.7022 | Validation Accuracy: 0.646600\n",
      "Epoch  8, CIFAR-10 Batch 1:  | Loss:     0.7459 | Validation Accuracy: 0.649200\n",
      "Epoch  8, CIFAR-10 Batch 2:  | Loss:     0.8431 | Validation Accuracy: 0.657400\n",
      "Epoch  8, CIFAR-10 Batch 3:  | Loss:     0.5830 | Validation Accuracy: 0.658000\n",
      "Epoch  8, CIFAR-10 Batch 4:  | Loss:     0.5747 | Validation Accuracy: 0.660200\n",
      "Epoch  8, CIFAR-10 Batch 5:  | Loss:     0.6638 | Validation Accuracy: 0.657400\n",
      "Epoch  9, CIFAR-10 Batch 1:  | Loss:     0.7109 | Validation Accuracy: 0.645000\n",
      "Epoch  9, CIFAR-10 Batch 2:  | Loss:     0.7499 | Validation Accuracy: 0.661800\n",
      "Epoch  9, CIFAR-10 Batch 3:  | Loss:     0.5042 | Validation Accuracy: 0.662200\n",
      "Epoch  9, CIFAR-10 Batch 4:  | Loss:     0.5816 | Validation Accuracy: 0.662200\n",
      "Epoch  9, CIFAR-10 Batch 5:  | Loss:     0.6469 | Validation Accuracy: 0.660000\n",
      "Epoch 10, CIFAR-10 Batch 1:  | Loss:     0.6722 | Validation Accuracy: 0.657400\n",
      "Epoch 10, CIFAR-10 Batch 2:  | Loss:     0.6690 | Validation Accuracy: 0.669200\n",
      "Epoch 10, CIFAR-10 Batch 3:  | Loss:     0.4435 | Validation Accuracy: 0.654600\n",
      "Epoch 10, CIFAR-10 Batch 4:  | Loss:     0.4785 | Validation Accuracy: 0.678600\n",
      "Epoch 10, CIFAR-10 Batch 5:  | Loss:     0.4731 | Validation Accuracy: 0.675600\n",
      "Epoch 11, CIFAR-10 Batch 1:  | Loss:     0.7059 | Validation Accuracy: 0.651400\n",
      "Epoch 11, CIFAR-10 Batch 2:  | Loss:     0.6564 | Validation Accuracy: 0.674000\n",
      "Epoch 11, CIFAR-10 Batch 3:  | Loss:     0.4241 | Validation Accuracy: 0.644200\n",
      "Epoch 11, CIFAR-10 Batch 4:  | Loss:     0.4671 | Validation Accuracy: 0.678800\n",
      "Epoch 11, CIFAR-10 Batch 5:  | Loss:     0.4102 | Validation Accuracy: 0.666600\n",
      "Epoch 12, CIFAR-10 Batch 1:  | Loss:     0.5721 | Validation Accuracy: 0.655000\n",
      "Epoch 12, CIFAR-10 Batch 2:  | Loss:     0.5595 | Validation Accuracy: 0.669200\n",
      "Epoch 12, CIFAR-10 Batch 3:  | Loss:     0.3893 | Validation Accuracy: 0.642000\n",
      "Epoch 12, CIFAR-10 Batch 4:  | Loss:     0.4546 | Validation Accuracy: 0.678000\n",
      "Epoch 12, CIFAR-10 Batch 5:  | Loss:     0.3588 | Validation Accuracy: 0.673000\n",
      "Epoch 13, CIFAR-10 Batch 1:  | Loss:     0.5216 | Validation Accuracy: 0.652000\n",
      "Epoch 13, CIFAR-10 Batch 2:  | Loss:     0.4846 | Validation Accuracy: 0.668200\n",
      "Epoch 13, CIFAR-10 Batch 3:  | Loss:     0.3301 | Validation Accuracy: 0.649000\n",
      "Epoch 13, CIFAR-10 Batch 4:  | Loss:     0.4797 | Validation Accuracy: 0.669000\n",
      "Epoch 13, CIFAR-10 Batch 5:  | Loss:     0.3144 | Validation Accuracy: 0.663400\n",
      "Epoch 14, CIFAR-10 Batch 1:  | Loss:     0.5805 | Validation Accuracy: 0.653000\n",
      "Epoch 14, CIFAR-10 Batch 2:  | Loss:     0.5048 | Validation Accuracy: 0.675400\n",
      "Epoch 14, CIFAR-10 Batch 3:  | Loss:     0.3830 | Validation Accuracy: 0.643800\n",
      "Epoch 14, CIFAR-10 Batch 4:  | Loss:     0.4000 | Validation Accuracy: 0.664800\n",
      "Epoch 14, CIFAR-10 Batch 5:  | Loss:     0.3165 | Validation Accuracy: 0.668200\n",
      "Epoch 15, CIFAR-10 Batch 1:  | Loss:     0.4415 | Validation Accuracy: 0.661800\n",
      "Epoch 15, CIFAR-10 Batch 2:  | Loss:     0.4722 | Validation Accuracy: 0.673400\n",
      "Epoch 15, CIFAR-10 Batch 3:  | Loss:     0.3807 | Validation Accuracy: 0.648600\n",
      "Epoch 15, CIFAR-10 Batch 4:  | Loss:     0.3439 | Validation Accuracy: 0.676600\n",
      "Epoch 15, CIFAR-10 Batch 5:  | Loss:     0.2903 | Validation Accuracy: 0.671600\n",
      "Epoch 16, CIFAR-10 Batch 1:  | Loss:     0.5456 | Validation Accuracy: 0.656200\n",
      "Epoch 16, CIFAR-10 Batch 2:  | Loss:     0.5016 | Validation Accuracy: 0.674400\n",
      "Epoch 16, CIFAR-10 Batch 3:  | Loss:     0.3540 | Validation Accuracy: 0.657000\n",
      "Epoch 16, CIFAR-10 Batch 4:  | Loss:     0.3372 | Validation Accuracy: 0.665400\n",
      "Epoch 16, CIFAR-10 Batch 5:  | Loss:     0.3274 | Validation Accuracy: 0.653600\n",
      "Epoch 17, CIFAR-10 Batch 1:  | Loss:     0.4282 | Validation Accuracy: 0.670600\n",
      "Epoch 17, CIFAR-10 Batch 2:  | Loss:     0.4186 | Validation Accuracy: 0.655200\n",
      "Epoch 17, CIFAR-10 Batch 3:  | Loss:     0.2226 | Validation Accuracy: 0.665400\n",
      "Epoch 17, CIFAR-10 Batch 4:  | Loss:     0.3986 | Validation Accuracy: 0.642600\n",
      "Epoch 17, CIFAR-10 Batch 5:  | Loss:     0.2416 | Validation Accuracy: 0.659200\n",
      "Epoch 18, CIFAR-10 Batch 1:  | Loss:     0.4173 | Validation Accuracy: 0.663800\n",
      "Epoch 18, CIFAR-10 Batch 2:  | Loss:     0.4740 | Validation Accuracy: 0.656000\n",
      "Epoch 18, CIFAR-10 Batch 3:  | Loss:     0.2302 | Validation Accuracy: 0.666000\n",
      "Epoch 18, CIFAR-10 Batch 4:  | Loss:     0.3285 | Validation Accuracy: 0.663400\n",
      "Epoch 18, CIFAR-10 Batch 5:  | Loss:     0.2326 | Validation Accuracy: 0.659200\n",
      "Epoch 19, CIFAR-10 Batch 1:  | Loss:     0.3923 | Validation Accuracy: 0.672600\n",
      "Epoch 19, CIFAR-10 Batch 2:  | Loss:     0.3765 | Validation Accuracy: 0.656800\n",
      "Epoch 19, CIFAR-10 Batch 3:  | Loss:     0.3033 | Validation Accuracy: 0.683600\n",
      "Epoch 19, CIFAR-10 Batch 4:  | Loss:     0.2501 | Validation Accuracy: 0.670400\n",
      "Epoch 19, CIFAR-10 Batch 5:  | Loss:     0.1784 | Validation Accuracy: 0.672000\n",
      "Epoch 20, CIFAR-10 Batch 1:  | Loss:     0.3448 | Validation Accuracy: 0.678400\n",
      "Epoch 20, CIFAR-10 Batch 2:  | Loss:     0.2887 | Validation Accuracy: 0.655200\n",
      "Epoch 20, CIFAR-10 Batch 3:  | Loss:     0.1840 | Validation Accuracy: 0.671800\n",
      "Epoch 20, CIFAR-10 Batch 4:  | Loss:     0.3305 | Validation Accuracy: 0.669400\n",
      "Epoch 20, CIFAR-10 Batch 5:  | Loss:     0.1755 | Validation Accuracy: 0.657200\n"
     ]
    }
   ],
   "source": [
    "\"\"\"\n",
    "DON'T MODIFY ANYTHING IN THIS CELL\n",
    "\"\"\"\n",
    "save_model_path = './image_classification'\n",
    "\n",
    "print('Training...')\n",
    "with tf.Session() as sess:\n",
    "    # Initializing the variables\n",
    "    sess.run(tf.global_variables_initializer())\n",
    "    \n",
    "    # Training cycle\n",
    "    for epoch in range(epochs):\n",
    "        # Loop over all batches\n",
    "        n_batches = 5\n",
    "        for batch_i in range(1, n_batches + 1):\n",
    "            for batch_features, batch_labels in helper.load_preprocess_training_batch(batch_i, batch_size):\n",
    "                train_neural_network(sess, optimizer, keep_probability, batch_features, batch_labels)\n",
    "            print('Epoch {:>2}, CIFAR-10 Batch {}:  '.format(epoch + 1, batch_i), end='')\n",
    "            print_stats(sess, batch_features, batch_labels, cost, accuracy)\n",
    "            \n",
    "    # Save Model\n",
    "    saver = tf.train.Saver()\n",
    "    save_path = saver.save(sess, save_model_path)"
   ]
  },
  {
   "cell_type": "markdown",
   "metadata": {},
   "source": [
    "# Checkpoint\n",
    "The model has been saved to disk.\n",
    "## Test Model\n",
    "Test your model against the test dataset.  This will be your final accuracy. You should have an accuracy greater than 50%. If you don't, keep tweaking the model architecture and parameters."
   ]
  },
  {
   "cell_type": "code",
   "execution_count": 34,
   "metadata": {},
   "outputs": [
    {
     "name": "stdout",
     "output_type": "stream",
     "text": [
      "INFO:tensorflow:Restoring parameters from ./image_classification\n",
      "Testing Accuracy: 0.6538614649681529\n",
      "\n"
     ]
    },
    {
     "data": {
      "image/png": "[encoded data removed]",
      "text/plain": [
       "<matplotlib.figure.Figure at 0x7f7cfd20d208>"
      ]
     },
     "metadata": {
      "image/png": {
       "height": 319,
       "width": 355
      }
     },
     "output_type": "display_data"
    }
   ],
   "source": [
    "\"\"\"\n",
    "DON'T MODIFY ANYTHING IN THIS CELL\n",
    "\"\"\"\n",
    "%matplotlib inline\n",
    "%config InlineBackend.figure_format = 'retina'\n",
    "\n",
    "import tensorflow as tf\n",
    "import pickle\n",
    "import helper\n",
    "import random\n",
    "\n",
    "# Set batch size if not already set\n",
    "try:\n",
    "    if batch_size:\n",
    "        pass\n",
    "except NameError:\n",
    "    batch_size = 64\n",
    "\n",
    "save_model_path = './image_classification'\n",
    "n_samples = 4\n",
    "top_n_predictions = 3\n",
    "\n",
    "def test_model():\n",
    "    \"\"\"\n",
    "    Test the saved model against the test dataset\n",
    "    \"\"\"\n",
    "\n",
    "    test_features, test_labels = pickle.load(open('preprocess_training.p', mode='rb'))\n",
    "    loaded_graph = tf.Graph()\n",
    "\n",
    "    with tf.Session(graph=loaded_graph) as sess:\n",
    "        # Load model\n",
    "        loader = tf.train.import_meta_graph(save_model_path + '.meta')\n",
    "        loader.restore(sess, save_model_path)\n",
    "\n",
    "        # Get Tensors from loaded model\n",
    "        loaded_x = loaded_graph.get_tensor_by_name('x:0')\n",
    "        loaded_y = loaded_graph.get_tensor_by_name('y:0')\n",
    "        loaded_keep_prob = loaded_graph.get_tensor_by_name('keep_prob:0')\n",
    "        loaded_logits = loaded_graph.get_tensor_by_name('logits:0')\n",
    "        loaded_acc = loaded_graph.get_tensor_by_name('accuracy:0')\n",
    "        \n",
    "        # Get accuracy in batches for memory limitations\n",
    "        test_batch_acc_total = 0\n",
    "        test_batch_count = 0\n",
    "        \n",
    "        for train_feature_batch, train_label_batch in helper.batch_features_labels(test_features, test_labels, batch_size):\n",
    "            test_batch_acc_total += sess.run(\n",
    "                loaded_acc,\n",
    "                feed_dict={loaded_x: train_feature_batch, loaded_y: train_label_batch, loaded_keep_prob: 1.0})\n",
    "            test_batch_count += 1\n",
    "\n",
    "        print('Testing Accuracy: {}\\n'.format(test_batch_acc_total/test_batch_count))\n",
    "\n",
    "        # Print Random Samples\n",
    "        random_test_features, random_test_labels = tuple(zip(*random.sample(list(zip(test_features, test_labels)), n_samples)))\n",
    "        random_test_predictions = sess.run(\n",
    "            tf.nn.top_k(tf.nn.softmax(loaded_logits), top_n_predictions),\n",
    "            feed_dict={loaded_x: random_test_features, loaded_y: random_test_labels, loaded_keep_prob: 1.0})\n",
    "        helper.display_image_predictions(random_test_features, random_test_labels, random_test_predictions)\n",
    "\n",
    "\n",
    "test_model()"
   ]
  },
  {
   "cell_type": "markdown",
   "metadata": {},
   "source": [
    "## Why 50-80% Accuracy?\n",
    "You might be wondering why you can't get an accuracy any higher. First things first, 50% isn't bad for a simple CNN.  Pure guessing would get you 10% accuracy. That's because there are many more techniques that can be applied to your model and we recemmond that once you are done with this project, you explore!\n",
    "\n",
    "## Submitting This Project\n",
    "When submitting this project, make sure to run all the cells before saving the notebook.  Save the notebook file as \"image_classification.ipynb\" and save it as a HTML file under \"File\" -> \"Download as\".  Include the \"helper.py\" and \"problem_unittests.py\" files in your submission."
   ]
  }
 ],
 "metadata": {
  "kernelspec": {
   "display_name": "tensorflow",
   "language": "python",
   "name": "tensorflow"
  },
  "language_info": {
   "codemirror_mode": {
    "name": "ipython",
    "version": 3
   },
   "file_extension": ".py",
   "mimetype": "text/x-python",
   "name": "python",
   "nbconvert_exporter": "python",
   "pygments_lexer": "ipython3",
   "version": "3.5.2"
  }
 },
 "nbformat": 4,
 "nbformat_minor": 1
}
